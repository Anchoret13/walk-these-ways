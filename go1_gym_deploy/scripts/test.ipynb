{
 "cells": [
  {
   "cell_type": "code",
   "execution_count": 2,
   "metadata": {},
   "outputs": [
    {
     "name": "stdout",
     "output_type": "stream",
     "text": [
      "dict_keys(['AC_Args', 'PPO_Args', 'RunnerArgs', 'Cfg'])\n",
      "dict_keys(['env', 'terrain', 'commands', 'curriculum_thresholds', 'init_state', 'control', 'asset', 'domain_rand', 'rewards', 'reward_scales', 'normalization', 'obs_scales', 'noise', 'noise_scales', 'viewer', 'sim', 'command_ranges'])\n"
     ]
    }
   ],
   "source": [
    "import pickle as pkl\n",
    "from go1_gym.envs.base.legged_robot_config import Cfg\n",
    "\n",
    "with open(\"../../runs/gait-conditioned-agility/pretrain-v0/train/025417.456545/parameters.pkl\", 'rb') as file:\n",
    "        pkl_cfg = pkl.load(file)\n",
    "        print(pkl_cfg.keys())\n",
    "        cfg = pkl_cfg[\"Cfg\"]\n",
    "        print(cfg.keys())\n",
    "\n",
    "        for key, value in cfg.items():\n",
    "            if hasattr(Cfg, key):\n",
    "                for key2, value2 in cfg[key].items():\n",
    "                    setattr(getattr(Cfg, key), key2, value2)"
   ]
  },
  {
   "cell_type": "code",
   "execution_count": 5,
   "metadata": {},
   "outputs": [
    {
     "name": "stdout",
     "output_type": "stream",
     "text": [
      "{'clip_observations': 100.0, 'clip_actions': 10.0, 'friction_range': [0, 1], 'ground_friction_range': [0, 1], 'restitution_range': [0, 1.0], 'added_mass_range': [-1.0, 3.0], 'com_displacement_range': [-0.1, 0.1], 'motor_strength_range': [0.9, 1.1], 'motor_offset_range': [-0.05, 0.05], 'Kp_factor_range': [0.8, 1.3], 'Kd_factor_range': [0.5, 1.5], 'joint_friction_range': [0.0, 0.7], 'contact_force_range': [0.0, 50.0], 'contact_state_range': [0.0, 1.0], 'body_velocity_range': [-6.0, 6.0], 'foot_height_range': [0.0, 0.15], 'body_height_range': [0.0, 0.6], 'gravity_range': [-1.0, 1.0], 'motion': [-0.01, 0.01]}\n"
     ]
    }
   ],
   "source": [
    "print(cfg[\"normalization\"])"
   ]
  },
  {
   "cell_type": "code",
   "execution_count": 6,
   "metadata": {},
   "outputs": [
    {
     "name": "stdout",
     "output_type": "stream",
     "text": [
      "{'lin_vel': 2.0, 'ang_vel': 0.25, 'dof_pos': 1.0, 'dof_vel': 0.05, 'imu': 0.1, 'height_measurements': 5.0, 'friction_measurements': 1.0, 'body_height_cmd': 2.0, 'gait_phase_cmd': 1.0, 'gait_freq_cmd': 1.0, 'footswing_height_cmd': 0.15, 'body_pitch_cmd': 0.3, 'body_roll_cmd': 0.3, 'aux_reward_cmd': 1.0, 'compliance_cmd': 1.0, 'stance_width_cmd': 1.0, 'stance_length_cmd': 1.0, 'segmentation_image': 1.0, 'rgb_image': 1.0, 'depth_image': 1.0}\n"
     ]
    }
   ],
   "source": [
    "print(cfg[\"obs_scales\"])"
   ]
  },
  {
   "cell_type": "code",
   "execution_count": null,
   "metadata": {},
   "outputs": [],
   "source": []
  }
 ],
 "metadata": {
  "kernelspec": {
   "display_name": "ZGMF-X10A",
   "language": "python",
   "name": "python3"
  },
  "language_info": {
   "codemirror_mode": {
    "name": "ipython",
    "version": 3
   },
   "file_extension": ".py",
   "mimetype": "text/x-python",
   "name": "python",
   "nbconvert_exporter": "python",
   "pygments_lexer": "ipython3",
   "version": "3.8.18"
  }
 },
 "nbformat": 4,
 "nbformat_minor": 2
}
